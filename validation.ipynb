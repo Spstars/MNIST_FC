{
 "cells": [
  {
   "cell_type": "code",
   "execution_count": 1,
   "metadata": {},
   "outputs": [],
   "source": [
    "import torch\n",
    "import torchvision\n",
    "import torchvision.transforms as transforms\n",
    "\n",
    "# MNIST 데이터셋 로드\n",
    "train_set = torchvision.datasets.MNIST(\n",
    "    root = './data/MNIST',\n",
    "    train = True,\n",
    "    download = True,\n",
    ")\n",
    "test_set = torchvision.datasets.MNIST(\n",
    "    root = './data/MNIST',\n",
    "    train = False,\n",
    "    download = True,\n",
    ")"
   ]
  },
  {
   "cell_type": "code",
   "execution_count": 2,
   "metadata": {},
   "outputs": [],
   "source": [
    "import numpy as np\n",
    "train_images,train_labels = np.array(train_set.data),np.array(train_set.targets)\n",
    "test_images, test_labels = np.array(test_set.data),np.array(test_set.targets)"
   ]
  },
  {
   "cell_type": "code",
   "execution_count": 3,
   "metadata": {},
   "outputs": [],
   "source": [
    "train_images = train_images.reshape(60000,-1)\n",
    "test_images = test_images.reshape(10000,-1)"
   ]
  },
  {
   "cell_type": "code",
   "execution_count": 4,
   "metadata": {},
   "outputs": [
    {
     "name": "stdout",
     "output_type": "stream",
     "text": [
      "(60000, 784) (60000,)\n",
      "(10000, 784) (10000,)\n"
     ]
    }
   ],
   "source": [
    "print(train_images.shape,train_labels.shape)\n",
    "print(test_images.shape,test_labels.shape)"
   ]
  },
  {
   "cell_type": "code",
   "execution_count": 5,
   "metadata": {},
   "outputs": [],
   "source": [
    "from tqdm import tqdm\n",
    "from MNIST_FC import MNIST_FN\n",
    "model = MNIST_FN()"
   ]
  },
  {
   "cell_type": "code",
   "execution_count": 10,
   "metadata": {},
   "outputs": [
    {
     "ename": "KeyboardInterrupt",
     "evalue": "",
     "output_type": "error",
     "traceback": [
      "\u001b[1;31m---------------------------------------------------------------------------\u001b[0m",
      "\u001b[1;31mKeyboardInterrupt\u001b[0m                         Traceback (most recent call last)",
      "Cell \u001b[1;32mIn[10], line 21\u001b[0m\n\u001b[0;32m     19\u001b[0m y \u001b[38;5;241m=\u001b[39m train_labels[mask]\n\u001b[0;32m     20\u001b[0m previous_b \u001b[38;5;241m=\u001b[39m b\n\u001b[1;32m---> 21\u001b[0m grad\u001b[38;5;241m=\u001b[39m \u001b[43mmodel\u001b[49m\u001b[38;5;241;43m.\u001b[39;49m\u001b[43mbackward\u001b[49m\u001b[43m(\u001b[49m\u001b[43mX\u001b[49m\u001b[43m,\u001b[49m\u001b[43my\u001b[49m\u001b[43m)\u001b[49m\n\u001b[0;32m     22\u001b[0m optimizer\u001b[38;5;241m.\u001b[39mupdate(grad,model\u001b[38;5;241m.\u001b[39mweights)\n\u001b[0;32m     23\u001b[0m loss \u001b[38;5;241m=\u001b[39m model\u001b[38;5;241m.\u001b[39mloss(X, y)\n",
      "File \u001b[1;32md:\\projects\\MNIST\\MNIST_FC.py:61\u001b[0m, in \u001b[0;36mMNIST_FN.backward\u001b[1;34m(self, x, t)\u001b[0m\n\u001b[0;32m     59\u001b[0m layers\u001b[38;5;241m.\u001b[39mreverse()\n\u001b[0;32m     60\u001b[0m \u001b[38;5;28;01mfor\u001b[39;00m layer \u001b[38;5;129;01min\u001b[39;00m layers:\n\u001b[1;32m---> 61\u001b[0m     dout \u001b[38;5;241m=\u001b[39m \u001b[43mlayer\u001b[49m\u001b[38;5;241;43m.\u001b[39;49m\u001b[43mbackward\u001b[49m\u001b[43m(\u001b[49m\u001b[43mdout\u001b[49m\u001b[43m)\u001b[49m\n\u001b[0;32m     62\u001b[0m grads \u001b[38;5;241m=\u001b[39m {}\n\u001b[0;32m     63\u001b[0m \u001b[38;5;28;01mfor\u001b[39;00m idx \u001b[38;5;129;01min\u001b[39;00m \u001b[38;5;28mrange\u001b[39m(\u001b[38;5;241m1\u001b[39m, \u001b[38;5;241m5\u001b[39m):\n",
      "File \u001b[1;32md:\\projects\\MNIST\\operators\\fc.py:22\u001b[0m, in \u001b[0;36mfc.backward\u001b[1;34m(self, dout)\u001b[0m\n\u001b[0;32m     20\u001b[0m \u001b[38;5;28;01mdef\u001b[39;00m \u001b[38;5;21mbackward\u001b[39m(\u001b[38;5;28mself\u001b[39m,dout\u001b[38;5;241m=\u001b[39m\u001b[38;5;241m1\u001b[39m):\n\u001b[0;32m     21\u001b[0m     dx \u001b[38;5;241m=\u001b[39m np\u001b[38;5;241m.\u001b[39mdot(dout,\u001b[38;5;28mself\u001b[39m\u001b[38;5;241m.\u001b[39mweights\u001b[38;5;241m.\u001b[39mT)\n\u001b[1;32m---> 22\u001b[0m     \u001b[38;5;28mself\u001b[39m\u001b[38;5;241m.\u001b[39mdw  \u001b[38;5;241m=\u001b[39m \u001b[43mnp\u001b[49m\u001b[38;5;241;43m.\u001b[39;49m\u001b[43mdot\u001b[49m\u001b[43m(\u001b[49m\u001b[38;5;28;43mself\u001b[39;49m\u001b[38;5;241;43m.\u001b[39;49m\u001b[43mx\u001b[49m\u001b[38;5;241;43m.\u001b[39;49m\u001b[43mT\u001b[49m\u001b[43m,\u001b[49m\u001b[43m \u001b[49m\u001b[43mdout\u001b[49m\u001b[43m)\u001b[49m\n\u001b[0;32m     23\u001b[0m     \u001b[38;5;28mself\u001b[39m\u001b[38;5;241m.\u001b[39mdb \u001b[38;5;241m=\u001b[39m dout\u001b[38;5;241m.\u001b[39msum(axis\u001b[38;5;241m=\u001b[39m\u001b[38;5;241m0\u001b[39m)\n\u001b[0;32m     25\u001b[0m      \u001b[38;5;66;03m# 이전 레이어로 전달할 그래디언트 계산\u001b[39;00m\n",
      "\u001b[1;31mKeyboardInterrupt\u001b[0m: "
     ]
    }
   ],
   "source": [
    "import operators as nn\n",
    "from tqdm.auto import tqdm\n",
    "epoch = 50\n",
    "learning_rate =0.005\n",
    "batch_size = 200\n",
    "models = []\n",
    "\n",
    "optimizer = nn.Adam(lr=learning_rate)\n",
    "# optimizer = nn.SGD(lr=learning_rate)\n",
    "iter_num =50000 // batch_size\n",
    "\n",
    "for e in range(epoch):\n",
    "    train_loss =0\n",
    "    test_loss =0 \n",
    "    previous_b = 0\n",
    "    for b in tqdm(range(iter_num)):\n",
    "        mask = np.random.choice(train_images.shape[0], batch_size)\n",
    "        X = train_images[mask]\n",
    "        y = train_labels[mask]\n",
    "        previous_b = b\n",
    "        grad= model.backward(X,y)\n",
    "        optimizer.update(grad,model.weights)\n",
    "        loss = model.loss(X, y)\n",
    "        train_loss += loss\n",
    "        # for i in (\"W1\",\"B1\",\"W2\",\"B2\",\"W3\",\"B3\",\"W4\",\"B4\"):\n",
    "        #     model.weights[i] -= learning_rate * grad[i] \n",
    "\n",
    "    print(f\"epoch : {e} , train loss : {train_loss/50000}\") \n"
   ]
  },
  {
   "cell_type": "code",
   "execution_count": 7,
   "metadata": {},
   "outputs": [
    {
     "data": {
      "text/plain": [
       "10000"
      ]
     },
     "execution_count": 7,
     "metadata": {},
     "output_type": "execute_result"
    }
   ],
   "source": [
    "test_images.shape[0]"
   ]
  },
  {
   "cell_type": "code",
   "execution_count": 9,
   "metadata": {},
   "outputs": [
    {
     "name": "stdout",
     "output_type": "stream",
     "text": [
      "0.93\n",
      "0.92\n",
      "0.88\n",
      "0.92\n",
      "0.88\n",
      "0.89\n",
      "0.9\n",
      "0.92\n",
      "0.9\n",
      "0.83\n",
      "0.92\n",
      "0.87\n",
      "0.85\n",
      "0.88\n",
      "0.92\n",
      "0.88\n",
      "0.88\n",
      "0.81\n",
      "0.93\n",
      "0.9\n",
      "0.86\n",
      "0.87\n",
      "0.9\n",
      "0.88\n",
      "0.9\n",
      "0.92\n",
      "0.91\n",
      "0.94\n",
      "0.92\n",
      "0.89\n",
      "0.94\n",
      "0.88\n",
      "0.94\n",
      "0.92\n",
      "0.92\n",
      "0.83\n",
      "0.93\n",
      "0.84\n",
      "0.81\n",
      "0.85\n",
      "0.92\n",
      "0.89\n",
      "0.85\n",
      "0.92\n",
      "0.94\n",
      "0.91\n",
      "0.94\n",
      "0.93\n",
      "0.83\n",
      "0.89\n",
      "0.9\n",
      "0.9\n",
      "0.95\n",
      "0.99\n",
      "0.98\n",
      "0.97\n",
      "0.88\n",
      "0.95\n",
      "0.88\n",
      "0.88\n",
      "0.83\n",
      "0.93\n",
      "1.0\n",
      "0.97\n",
      "0.96\n",
      "0.87\n",
      "0.94\n",
      "0.9\n",
      "0.94\n",
      "0.94\n",
      "0.98\n",
      "0.98\n",
      "0.92\n",
      "1.0\n",
      "0.92\n",
      "0.96\n",
      "0.99\n",
      "0.99\n",
      "0.9\n",
      "0.89\n",
      "0.9\n",
      "0.98\n",
      "0.9\n",
      "0.89\n",
      "0.93\n",
      "0.93\n",
      "0.99\n",
      "0.99\n",
      "0.98\n",
      "1.0\n",
      "0.83\n",
      "0.97\n",
      "0.97\n",
      "0.96\n",
      "0.96\n",
      "0.94\n",
      "0.95\n",
      "0.85\n",
      "0.89\n"
     ]
    }
   ],
   "source": [
    "\n",
    "test_loss =0 \n",
    "previous_b = 0\n",
    "for b in range(batch_size,test_images.shape[0],batch_size):\n",
    "    X = test_images[previous_b:b]\n",
    "    y = test_labels[previous_b:b]\n",
    "    previous_b = b\n",
    "    pred_y = model.accuracy(X,y)\n",
    "    print(pred_y)\n",
    "\n",
    "        "
   ]
  }
 ],
 "metadata": {
  "kernelspec": {
   "display_name": "Python 3",
   "language": "python",
   "name": "python3"
  },
  "language_info": {
   "codemirror_mode": {
    "name": "ipython",
    "version": 3
   },
   "file_extension": ".py",
   "mimetype": "text/x-python",
   "name": "python",
   "nbconvert_exporter": "python",
   "pygments_lexer": "ipython3",
   "version": "3.12.1"
  }
 },
 "nbformat": 4,
 "nbformat_minor": 2
}
